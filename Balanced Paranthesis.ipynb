{
 "cells": [
  {
   "cell_type": "markdown",
   "metadata": {},
   "source": [
    "### Problem statement : \n",
    "------------------------------\n",
    "<p> Remove minimum paranthesis to make string a balanced  parenthesised and print all the result <br>\n",
    "For example : <b> input </b> : <i> \"((1)(2()\" , <b> output </b> : <i> [\"((1)(2)\"] </i> </p>\n"
   ]
  },
  {
   "cell_type": "code",
   "execution_count": 3,
   "metadata": {
    "collapsed": false
   },
   "outputs": [],
   "source": [
    "from Queue import Queue"
   ]
  },
  {
   "cell_type": "code",
   "execution_count": 6,
   "metadata": {
    "collapsed": false
   },
   "outputs": [],
   "source": [
    "def checkBalanced(s):\n",
    "    count = 0\n",
    "    for i in s:\n",
    "        if i == '(' : \n",
    "            count += 1\n",
    "        elif i == ')':\n",
    "            count -= 1\n",
    "            if count < 0:\n",
    "                return False\n",
    "    return count == 0\n",
    "\n",
    "def solution(inp):\n",
    "    queue = Queue()\n",
    "    queue.put(inp)\n",
    "    result = []\n",
    "    found = False\n",
    "    \n",
    "    from collections import defaultdict\n",
    "    visited  = defaultdict(int)\n",
    "    \n",
    "    while not queue.empty():\n",
    "        temp = queue.get()\n",
    "        if visited[temp] == 1 : continue\n",
    "        visited[temp] = 1\n",
    "        \n",
    "        if checkBalanced(temp):\n",
    "            result.append(temp)\n",
    "            found = True\n",
    "            \n",
    "        if found: continue\n",
    "            \n",
    "        for i in range(len(list(temp))):\n",
    "            if temp[i] == ')' or temp[i] == '(':\n",
    "                queue.put(''.join(temp[0:i]) + ''.join(temp[i+1:]))\n",
    "                \n",
    "    return result"
   ]
  },
  {
   "cell_type": "code",
   "execution_count": 7,
   "metadata": {
    "collapsed": false
   },
   "outputs": [
    {
     "name": "stdout",
     "output_type": "stream",
     "text": [
      "['(ab)(c)()', '(a)b(c)()']\n"
     ]
    }
   ],
   "source": [
    "if __name__ == '__main__':\n",
    "    input_prblm = \"(a)b)(c)()\"\n",
    "    test = \"(a)())()\"\n",
    "    result = solution(input_prblm)\n",
    "    print result"
   ]
  },
  {
   "cell_type": "code",
   "execution_count": null,
   "metadata": {
    "collapsed": true
   },
   "outputs": [],
   "source": []
  }
 ],
 "metadata": {
  "kernelspec": {
   "display_name": "Python 2",
   "language": "python",
   "name": "python2"
  },
  "language_info": {
   "codemirror_mode": {
    "name": "ipython",
    "version": 2
   },
   "file_extension": ".py",
   "mimetype": "text/x-python",
   "name": "python",
   "nbconvert_exporter": "python",
   "pygments_lexer": "ipython2",
   "version": "2.7.11"
  }
 },
 "nbformat": 4,
 "nbformat_minor": 0
}
